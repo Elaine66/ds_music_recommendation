{
 "cells": [
  {
   "cell_type": "code",
   "execution_count": 2,
   "metadata": {
    "collapsed": true
   },
   "outputs": [],
   "source": [
    "import pandas as pd\n",
    "import numpy as np\n",
    "import seaborn as sns\n",
    "import matplotlib.pyplot as plt\n",
    "\n",
    "%matplotlib inline"
   ]
  },
  {
   "cell_type": "markdown",
   "metadata": {},
   "source": [
    "### Load data\n",
    "#### Create dataframes \n",
    "- users, songs\n",
    "- frequency for users listerning to songs  \n",
    "- download \n",
    "- search queries (uid, data, time - activitiy of the users)"
   ]
  },
  {
   "cell_type": "code",
   "execution_count": 6,
   "metadata": {},
   "outputs": [],
   "source": [
    "user_df = pd.read_csv('../data/parsed_data/3_1uid.csv', dtype={'uid':str})\n",
    "# user_song_freq = pd.read_csv('../data/parsed_data/user_song_freq.csv',dtype={'uid':str})\n",
    "# song_df = pd.read_csv('../data/parsed_data/song_table.csv', sep = ',', quotechar='\"', engine='python', encoding='utf-8')"
   ]
  },
  {
   "cell_type": "code",
   "execution_count": 22,
   "metadata": {},
   "outputs": [
    {
     "name": "stdout",
     "output_type": "stream",
     "text": [
      "100047599\n",
      "99983627\n"
     ]
    }
   ],
   "source": [
    "user_df['uid'] = user_df['uid'].dropna()\n",
    "user_df = user_df.loc[(user_df['uid'] != '<script>\\n') \n",
    "                      & (~user_df['uid'].isnull())\n",
    "                      & (user_df['uid'] > '0')]\n",
    "print(min(user_df['uid']))\n",
    "print(max(user_df['uid']))"
   ]
  },
  {
   "cell_type": "code",
   "execution_count": 16,
   "metadata": {},
   "outputs": [
    {
     "data": {
      "text/html": [
       "<div>\n",
       "<style>\n",
       "    .dataframe thead tr:only-child th {\n",
       "        text-align: right;\n",
       "    }\n",
       "\n",
       "    .dataframe thead th {\n",
       "        text-align: left;\n",
       "    }\n",
       "\n",
       "    .dataframe tbody tr th {\n",
       "        vertical-align: top;\n",
       "    }\n",
       "</style>\n",
       "<table border=\"1\" class=\"dataframe\">\n",
       "  <thead>\n",
       "    <tr style=\"text-align: right;\">\n",
       "      <th></th>\n",
       "      <th>Unnamed: 0</th>\n",
       "      <th>uid</th>\n",
       "    </tr>\n",
       "  </thead>\n",
       "  <tbody>\n",
       "    <tr>\n",
       "      <th>1</th>\n",
       "      <td>1</td>\n",
       "      <td>154563989</td>\n",
       "    </tr>\n",
       "    <tr>\n",
       "      <th>2</th>\n",
       "      <td>2</td>\n",
       "      <td>154806874</td>\n",
       "    </tr>\n",
       "    <tr>\n",
       "      <th>3</th>\n",
       "      <td>3</td>\n",
       "      <td>154777984</td>\n",
       "    </tr>\n",
       "    <tr>\n",
       "      <th>4</th>\n",
       "      <td>4</td>\n",
       "      <td>154801899</td>\n",
       "    </tr>\n",
       "    <tr>\n",
       "      <th>5</th>\n",
       "      <td>5</td>\n",
       "      <td>154522980</td>\n",
       "    </tr>\n",
       "  </tbody>\n",
       "</table>\n",
       "</div>"
      ],
      "text/plain": [
       "   Unnamed: 0        uid\n",
       "1           1  154563989\n",
       "2           2  154806874\n",
       "3           3  154777984\n",
       "4           4  154801899\n",
       "5           5  154522980"
      ]
     },
     "execution_count": 16,
     "metadata": {},
     "output_type": "execute_result"
    }
   ],
   "source": [
    "user_df.head()"
   ]
  },
  {
   "cell_type": "code",
   "execution_count": 4,
   "metadata": {},
   "outputs": [
    {
     "data": {
      "text/html": [
       "<div>\n",
       "<style>\n",
       "    .dataframe thead tr:only-child th {\n",
       "        text-align: right;\n",
       "    }\n",
       "\n",
       "    .dataframe thead th {\n",
       "        text-align: left;\n",
       "    }\n",
       "\n",
       "    .dataframe tbody tr th {\n",
       "        vertical-align: top;\n",
       "    }\n",
       "</style>\n",
       "<table border=\"1\" class=\"dataframe\">\n",
       "  <thead>\n",
       "    <tr style=\"text-align: right;\">\n",
       "      <th></th>\n",
       "      <th>song_id</th>\n",
       "      <th>song_type</th>\n",
       "      <th>song_name</th>\n",
       "      <th>singer</th>\n",
       "      <th>song_length</th>\n",
       "    </tr>\n",
       "  </thead>\n",
       "  <tbody>\n",
       "    <tr>\n",
       "      <th>0</th>\n",
       "      <td>602239.0</td>\n",
       "      <td>NaN</td>\n",
       "      <td>薛凯琪</td>\n",
       "      <td>0</td>\n",
       "      <td>NaN</td>\n",
       "    </tr>\n",
       "    <tr>\n",
       "      <th>1</th>\n",
       "      <td>160911.0</td>\n",
       "      <td>NaN</td>\n",
       "      <td>蔡依林&amp;周杰伦</td>\n",
       "      <td>0</td>\n",
       "      <td>NaN</td>\n",
       "    </tr>\n",
       "    <tr>\n",
       "      <th>2</th>\n",
       "      <td>1033156.0</td>\n",
       "      <td>NaN</td>\n",
       "      <td>汪苏泷</td>\n",
       "      <td>0</td>\n",
       "      <td>NaN</td>\n",
       "    </tr>\n",
       "    <tr>\n",
       "      <th>3</th>\n",
       "      <td>294622.0</td>\n",
       "      <td>NaN</td>\n",
       "      <td>DJ舞曲</td>\n",
       "      <td>0</td>\n",
       "      <td>NaN</td>\n",
       "    </tr>\n",
       "    <tr>\n",
       "      <th>4</th>\n",
       "      <td>517174.0</td>\n",
       "      <td>NaN</td>\n",
       "      <td>梦鸽</td>\n",
       "      <td>0</td>\n",
       "      <td>NaN</td>\n",
       "    </tr>\n",
       "  </tbody>\n",
       "</table>\n",
       "</div>"
      ],
      "text/plain": [
       "     song_id  song_type song_name singer  song_length\n",
       "0   602239.0        NaN       薛凯琪      0          NaN\n",
       "1   160911.0        NaN   蔡依林&周杰伦      0          NaN\n",
       "2  1033156.0        NaN       汪苏泷      0          NaN\n",
       "3   294622.0        NaN      DJ舞曲      0          NaN\n",
       "4   517174.0        NaN        梦鸽      0          NaN"
      ]
     },
     "execution_count": 4,
     "metadata": {},
     "output_type": "execute_result"
    }
   ],
   "source": [
    "song_df.head()"
   ]
  },
  {
   "cell_type": "code",
   "execution_count": 6,
   "metadata": {},
   "outputs": [
    {
     "data": {
      "text/html": [
       "<div>\n",
       "<style>\n",
       "    .dataframe thead tr:only-child th {\n",
       "        text-align: right;\n",
       "    }\n",
       "\n",
       "    .dataframe thead th {\n",
       "        text-align: left;\n",
       "    }\n",
       "\n",
       "    .dataframe tbody tr th {\n",
       "        vertical-align: top;\n",
       "    }\n",
       "</style>\n",
       "<table border=\"1\" class=\"dataframe\">\n",
       "  <thead>\n",
       "    <tr style=\"text-align: right;\">\n",
       "      <th></th>\n",
       "      <th>uid</th>\n",
       "      <th>device</th>\n",
       "      <th>song_id</th>\n",
       "      <th>freq</th>\n",
       "    </tr>\n",
       "  </thead>\n",
       "  <tbody>\n",
       "    <tr>\n",
       "      <th>0</th>\n",
       "      <td>751824</td>\n",
       "      <td>ar</td>\n",
       "      <td>6483029.0</td>\n",
       "      <td>385</td>\n",
       "    </tr>\n",
       "    <tr>\n",
       "      <th>1</th>\n",
       "      <td>168156920</td>\n",
       "      <td>ip</td>\n",
       "      <td>6792060.0</td>\n",
       "      <td>5</td>\n",
       "    </tr>\n",
       "    <tr>\n",
       "      <th>2</th>\n",
       "      <td>497685</td>\n",
       "      <td>ar</td>\n",
       "      <td>7207401.0</td>\n",
       "      <td>26</td>\n",
       "    </tr>\n",
       "    <tr>\n",
       "      <th>3</th>\n",
       "      <td>1062806</td>\n",
       "      <td>ar</td>\n",
       "      <td>6841262.0</td>\n",
       "      <td>50</td>\n",
       "    </tr>\n",
       "    <tr>\n",
       "      <th>4</th>\n",
       "      <td>168195436</td>\n",
       "      <td>ar</td>\n",
       "      <td>12808784.0</td>\n",
       "      <td>22</td>\n",
       "    </tr>\n",
       "  </tbody>\n",
       "</table>\n",
       "</div>"
      ],
      "text/plain": [
       "         uid device     song_id  freq\n",
       "0     751824     ar   6483029.0   385\n",
       "1  168156920     ip   6792060.0     5\n",
       "2     497685     ar   7207401.0    26\n",
       "3    1062806     ar   6841262.0    50\n",
       "4  168195436     ar  12808784.0    22"
      ]
     },
     "execution_count": 6,
     "metadata": {},
     "output_type": "execute_result"
    }
   ],
   "source": [
    "user_song_freq.head()"
   ]
  },
  {
   "cell_type": "code",
   "execution_count": null,
   "metadata": {
    "collapsed": true
   },
   "outputs": [],
   "source": [
    "user_df.head()\n",
    "user_song_freq.head()"
   ]
  },
  {
   "cell_type": "code",
   "execution_count": null,
   "metadata": {
    "collapsed": true
   },
   "outputs": [],
   "source": [
    "# user_df.uid = user_df.uid.apply(float).apply(str)\n",
    "# song_df.song_id = song_df.song_id.apply(str)\n",
    "# user_song_freq.uid = user_song_freq.uid.apply(str)\n",
    "# user_song_freq.song_id = user_song_freq.song_id.apply(str)"
   ]
  },
  {
   "cell_type": "markdown",
   "metadata": {},
   "source": [
    "### Cleaning data\n",
    "#### User table\n",
    "- Identify uid with extreme song playing frequencies and flag those in user_df \n",
    "\n",
    "#### Song table \n",
    "- Combine songs with same song_id, and mode of the song_type (>0), name, singer, song_length (<7200) "
   ]
  },
  {
   "cell_type": "markdown",
   "metadata": {},
   "source": [
    "unique user id: 264713\n",
    "unique song id: 1559989 "
   ]
  },
  {
   "cell_type": "code",
   "execution_count": 30,
   "metadata": {},
   "outputs": [
    {
     "name": "stdout",
     "output_type": "stream",
     "text": [
      "1559986\n"
     ]
    }
   ],
   "source": [
    "# print (user_df.shape)\n",
    "# valid_user = user_df.dropna()\n",
    "# valid_user = valid_user.loc[valid_user['uid'] > '0']\n",
    "\n",
    "valid_song = song_df.loc[song_df['song_id'] > 0]\n",
    "valid_song = valid_song.dropna(subset=['song_id'])\n",
    "num_song = len(valid_song['song_id'].unique())\n",
    "print (num_song)"
   ]
  },
  {
   "cell_type": "code",
   "execution_count": 34,
   "metadata": {},
   "outputs": [
    {
     "name": "stdout",
     "output_type": "stream",
     "text": [
      "2147483647.0\n",
      "2.0\n",
      "[2.0, 3.0, 4.0, 5.0, 6.0, 7.0, 8.0, 9.0, 10.0, 11.0]\n"
     ]
    }
   ],
   "source": [
    "print(max(valid_song['song_id']))\n",
    "print(min(valid_song['song_id']))\n",
    "print (sorted(valid_song['song_id'].unique())[:10])"
   ]
  },
  {
   "cell_type": "code",
   "execution_count": 4,
   "metadata": {},
   "outputs": [
    {
     "name": "stdout",
     "output_type": "stream",
     "text": [
      "(264713, 2)\n",
      "(4182826, 5)\n"
     ]
    }
   ],
   "source": [
    "print (valid_user.shape)\n",
    "print (valid_song.shape)"
   ]
  },
  {
   "cell_type": "code",
   "execution_count": null,
   "metadata": {
    "collapsed": true
   },
   "outputs": [],
   "source": [
    "# save valid dataset \n",
    "valid_song.to_csv('../data/valid_song_dup.csv')\n",
    "valid_user.to_csv('../data/valid_user_highfreq.csv')"
   ]
  },
  {
   "cell_type": "code",
   "execution_count": null,
   "metadata": {
    "collapsed": true
   },
   "outputs": [],
   "source": [
    "# validate user_play"
   ]
  },
  {
   "cell_type": "code",
   "execution_count": 77,
   "metadata": {},
   "outputs": [
    {
     "name": "stderr",
     "output_type": "stream",
     "text": [
      "C:\\ProgramData\\Anaconda3\\lib\\site-packages\\ipykernel_launcher.py:16: SettingWithCopyWarning: \n",
      "A value is trying to be set on a copy of a slice from a DataFrame.\n",
      "Try using .loc[row_indexer,col_indexer] = value instead\n",
      "\n",
      "See the caveats in the documentation: http://pandas.pydata.org/pandas-docs/stable/indexing.html#indexing-view-versus-copy\n",
      "  app.launch_new_instance()\n",
      "C:\\ProgramData\\Anaconda3\\lib\\site-packages\\ipykernel_launcher.py:17: SettingWithCopyWarning: \n",
      "A value is trying to be set on a copy of a slice from a DataFrame.\n",
      "Try using .loc[row_indexer,col_indexer] = value instead\n",
      "\n",
      "See the caveats in the documentation: http://pandas.pydata.org/pandas-docs/stable/indexing.html#indexing-view-versus-copy\n",
      "C:\\ProgramData\\Anaconda3\\lib\\site-packages\\ipykernel_launcher.py:18: SettingWithCopyWarning: \n",
      "A value is trying to be set on a copy of a slice from a DataFrame.\n",
      "Try using .loc[row_indexer,col_indexer] = value instead\n",
      "\n",
      "See the caveats in the documentation: http://pandas.pydata.org/pandas-docs/stable/indexing.html#indexing-view-versus-copy\n",
      "C:\\ProgramData\\Anaconda3\\lib\\site-packages\\ipykernel_launcher.py:19: SettingWithCopyWarning: \n",
      "A value is trying to be set on a copy of a slice from a DataFrame.\n",
      "Try using .loc[row_indexer,col_indexer] = value instead\n",
      "\n",
      "See the caveats in the documentation: http://pandas.pydata.org/pandas-docs/stable/indexing.html#indexing-view-versus-copy\n"
     ]
    },
    {
     "ename": "KeyboardInterrupt",
     "evalue": "",
     "output_type": "error",
     "traceback": [
      "\u001b[1;31m---------------------------------------------------------------------------\u001b[0m",
      "\u001b[1;31mKeyboardInterrupt\u001b[0m                         Traceback (most recent call last)",
      "\u001b[1;32m<ipython-input-77-86bc6fd6f16b>\u001b[0m in \u001b[0;36m<module>\u001b[1;34m()\u001b[0m\n\u001b[0;32m     12\u001b[0m     \u001b[0mave_length\u001b[0m \u001b[1;33m=\u001b[0m \u001b[0mint\u001b[0m\u001b[1;33m(\u001b[0m\u001b[0mtemp_length\u001b[0m\u001b[1;33m[\u001b[0m\u001b[1;34m'song_length'\u001b[0m\u001b[1;33m]\u001b[0m\u001b[1;33m.\u001b[0m\u001b[0mmean\u001b[0m\u001b[1;33m(\u001b[0m\u001b[1;33m)\u001b[0m\u001b[1;33m)\u001b[0m\u001b[1;33m\u001b[0m\u001b[0m\n\u001b[0;32m     13\u001b[0m \u001b[1;33m\u001b[0m\u001b[0m\n\u001b[1;32m---> 14\u001b[1;33m     \u001b[0msong_name\u001b[0m \u001b[1;33m=\u001b[0m \u001b[0mtemp_df\u001b[0m\u001b[1;33m[\u001b[0m\u001b[1;34m'song_name'\u001b[0m\u001b[1;33m]\u001b[0m\u001b[1;33m.\u001b[0m\u001b[0mdropna\u001b[0m\u001b[1;33m(\u001b[0m\u001b[1;33m)\u001b[0m\u001b[1;33m.\u001b[0m\u001b[0mmode\u001b[0m\u001b[1;33m(\u001b[0m\u001b[1;33m)\u001b[0m\u001b[1;33m\u001b[0m\u001b[0m\n\u001b[0m\u001b[0;32m     15\u001b[0m     \u001b[0msinger\u001b[0m \u001b[1;33m=\u001b[0m \u001b[0mtemp_df\u001b[0m\u001b[1;33m[\u001b[0m\u001b[1;34m'singer'\u001b[0m\u001b[1;33m]\u001b[0m\u001b[1;33m.\u001b[0m\u001b[0mdropna\u001b[0m\u001b[1;33m(\u001b[0m\u001b[1;33m)\u001b[0m\u001b[1;33m.\u001b[0m\u001b[0mmode\u001b[0m\u001b[1;33m(\u001b[0m\u001b[1;33m)\u001b[0m\u001b[1;33m\u001b[0m\u001b[0m\n\u001b[0;32m     16\u001b[0m     \u001b[0munique_song\u001b[0m\u001b[1;33m[\u001b[0m\u001b[0munique_song\u001b[0m\u001b[1;33m[\u001b[0m\u001b[1;34m'song_id'\u001b[0m\u001b[1;33m]\u001b[0m \u001b[1;33m==\u001b[0m \u001b[0mi\u001b[0m\u001b[1;33m]\u001b[0m\u001b[1;33m[\u001b[0m\u001b[1;34m'song_type'\u001b[0m\u001b[1;33m]\u001b[0m \u001b[1;33m=\u001b[0m \u001b[0msong_type\u001b[0m\u001b[1;33m\u001b[0m\u001b[0m\n",
      "\u001b[1;32mC:\\ProgramData\\Anaconda3\\lib\\site-packages\\pandas\\core\\series.py\u001b[0m in \u001b[0;36mmode\u001b[1;34m(self)\u001b[0m\n\u001b[0;32m   1188\u001b[0m         \"\"\"\n\u001b[0;32m   1189\u001b[0m         \u001b[1;31m# TODO: Add option for bins like value_counts()\u001b[0m\u001b[1;33m\u001b[0m\u001b[1;33m\u001b[0m\u001b[0m\n\u001b[1;32m-> 1190\u001b[1;33m         \u001b[1;32mreturn\u001b[0m \u001b[0malgorithms\u001b[0m\u001b[1;33m.\u001b[0m\u001b[0mmode\u001b[0m\u001b[1;33m(\u001b[0m\u001b[0mself\u001b[0m\u001b[1;33m)\u001b[0m\u001b[1;33m\u001b[0m\u001b[0m\n\u001b[0m\u001b[0;32m   1191\u001b[0m \u001b[1;33m\u001b[0m\u001b[0m\n\u001b[0;32m   1192\u001b[0m     \u001b[1;33m@\u001b[0m\u001b[0mAppender\u001b[0m\u001b[1;33m(\u001b[0m\u001b[0mbase\u001b[0m\u001b[1;33m.\u001b[0m\u001b[0m_shared_docs\u001b[0m\u001b[1;33m[\u001b[0m\u001b[1;34m'unique'\u001b[0m\u001b[1;33m]\u001b[0m \u001b[1;33m%\u001b[0m \u001b[0m_shared_doc_kwargs\u001b[0m\u001b[1;33m)\u001b[0m\u001b[1;33m\u001b[0m\u001b[0m\n",
      "\u001b[1;32mC:\\ProgramData\\Anaconda3\\lib\\site-packages\\pandas\\core\\algorithms.py\u001b[0m in \u001b[0;36mmode\u001b[1;34m(values)\u001b[0m\n\u001b[0;32m    751\u001b[0m \u001b[1;33m\u001b[0m\u001b[0m\n\u001b[0;32m    752\u001b[0m     \u001b[0mf\u001b[0m \u001b[1;33m=\u001b[0m \u001b[0mgetattr\u001b[0m\u001b[1;33m(\u001b[0m\u001b[0mhtable\u001b[0m\u001b[1;33m,\u001b[0m \u001b[1;34m\"mode_{dtype}\"\u001b[0m\u001b[1;33m.\u001b[0m\u001b[0mformat\u001b[0m\u001b[1;33m(\u001b[0m\u001b[0mdtype\u001b[0m\u001b[1;33m=\u001b[0m\u001b[0mndtype\u001b[0m\u001b[1;33m)\u001b[0m\u001b[1;33m)\u001b[0m\u001b[1;33m\u001b[0m\u001b[0m\n\u001b[1;32m--> 753\u001b[1;33m     \u001b[0mresult\u001b[0m \u001b[1;33m=\u001b[0m \u001b[0mf\u001b[0m\u001b[1;33m(\u001b[0m\u001b[0mvalues\u001b[0m\u001b[1;33m)\u001b[0m\u001b[1;33m\u001b[0m\u001b[0m\n\u001b[0m\u001b[0;32m    754\u001b[0m     \u001b[1;32mtry\u001b[0m\u001b[1;33m:\u001b[0m\u001b[1;33m\u001b[0m\u001b[0m\n\u001b[0;32m    755\u001b[0m         \u001b[0mresult\u001b[0m \u001b[1;33m=\u001b[0m \u001b[0mnp\u001b[0m\u001b[1;33m.\u001b[0m\u001b[0msort\u001b[0m\u001b[1;33m(\u001b[0m\u001b[0mresult\u001b[0m\u001b[1;33m)\u001b[0m\u001b[1;33m\u001b[0m\u001b[0m\n",
      "\u001b[1;31mKeyboardInterrupt\u001b[0m: "
     ]
    }
   ],
   "source": [
    "unique_song = pd.DataFrame(columns=['song_id', 'song_type', 'song_name', 'song_length'])\n",
    "unique_song.song_id = valid_song['song_id'].unique()\n",
    "unique_song.song_type = 0\n",
    "unique_song.song_length = 0\n",
    "unique_song.head()\n",
    "\n",
    "for i in list(unique_song['song_id']):\n",
    "    temp_df = valid_song.loc[valid_song['song_id'] == i]\n",
    "    song_type = temp_df['song_type'].replace(0.0, None).dropna().mode()\n",
    "    \n",
    "    temp_length = valid_song.dropna(subset = ['song_length'])\n",
    "    temp_df = temp_length.loc[(temp_length['song_length']>0) & (temp_length['song_length']<720)]\n",
    "    ave_length = int(temp_length['song_length'].mean())\n",
    "    \n",
    "    song_name = temp_df['song_name'].dropna().mode()\n",
    "    singer = temp_df['singer'].dropna().mode()\n",
    "    unique_song.loc[unique_song['song_id'] == i, 'song_type'] = song_type\n",
    "    unique_song.loc[unique_song['song_id'] == i, 'song_length'] = ave_length\n",
    "    unique_song.loc[unique_song['song_id'] == i, 'song_name'] = song_name\n",
    "    unique_song.loc[unique_song['song_id'] == i, 'singer'] = singer\n"
   ]
  },
  {
   "cell_type": "markdown",
   "metadata": {},
   "source": [
    "song id with extreme frequencies"
   ]
  },
  {
   "cell_type": "code",
   "execution_count": 12,
   "metadata": {
    "collapsed": true
   },
   "outputs": [],
   "source": [
    "freq_cutoff = user_song_freq['freq'].quantile(0.9999)\n",
    "extreme_freq = user_song_freq.loc[(user_song_freq['freq']>=freq_cutoff)]"
   ]
  },
  {
   "cell_type": "code",
   "execution_count": 13,
   "metadata": {},
   "outputs": [
    {
     "name": "stdout",
     "output_type": "stream",
     "text": [
      "1009.0\n"
     ]
    }
   ],
   "source": [
    "print(freq_cutoff)"
   ]
  },
  {
   "cell_type": "code",
   "execution_count": 16,
   "metadata": {
    "collapsed": true
   },
   "outputs": [],
   "source": [
    "outlier_user = extreme_freq.uid.unique()"
   ]
  },
  {
   "cell_type": "code",
   "execution_count": 19,
   "metadata": {},
   "outputs": [
    {
     "data": {
      "text/plain": [
       "array(['1791497', '751824', '497685', '37025504', '1685126', '168417936',\n",
       "       '1749320', '1062806', '168852806', '168890189'], dtype=object)"
      ]
     },
     "execution_count": 19,
     "metadata": {},
     "output_type": "execute_result"
    }
   ],
   "source": [
    "outlier_user[:10]"
   ]
  },
  {
   "cell_type": "code",
   "execution_count": 21,
   "metadata": {},
   "outputs": [
    {
     "name": "stdout",
     "output_type": "stream",
     "text": [
      "-1.0\n"
     ]
    }
   ],
   "source": [
    "user_song_freq.loc[user_song_freq['uid']=='1791497'].head()\n",
    "print (min(valid_song['song_id']))"
   ]
  },
  {
   "cell_type": "code",
   "execution_count": null,
   "metadata": {
    "collapsed": true
   },
   "outputs": [],
   "source": [
    "valid_freq = user_song_freq.loc[(user_song_freq['freq']<user_song_freq['freq'].quantile(0.999)) & (user_song_freq['song_id'] > 0)]\n",
    "print (valid_freq.shape[0]/user_song_freq.shape[0])"
   ]
  },
  {
   "cell_type": "code",
   "execution_count": null,
   "metadata": {
    "collapsed": true
   },
   "outputs": [],
   "source": [
    "print (extreme_freq.shape)\n",
    "print (len(np.unique(extreme_freq['uid']))/len(np.unique(valid_freq['uid'])))"
   ]
  },
  {
   "cell_type": "code",
   "execution_count": 44,
   "metadata": {},
   "outputs": [
    {
     "name": "stdout",
     "output_type": "stream",
     "text": [
      "          song_id  song_type song_name   singer  song_length\n",
      "1        160911.0        NaN   蔡依林&周杰伦        0          NaN\n",
      "80361    160911.0        0.0     布拉格广场  蔡依林&周杰伦        296.0\n",
      "264168   160911.0        0.0     布拉格广场  蔡依林&周杰伦          0.0\n",
      "343003   160911.0        0.0     布拉格广场  蔡依林&周杰伦        272.0\n",
      "372496   160911.0        0.0     布拉格广场  蔡依林&周杰伦        181.0\n",
      "386901   160911.0        0.0     布拉格广场  蔡依林&周杰伦        212.0\n",
      "467896   160911.0        0.0     布拉格广场  蔡依林&周杰伦        284.0\n",
      "570168   160911.0        0.0     布拉格广场  蔡依林&周杰伦        273.0\n",
      "581175   160911.0        0.0     布拉格广场  蔡依林&周杰伦        294.0\n",
      "655835   160911.0        0.0     布拉格广场  蔡依林&周杰伦        227.0\n",
      "949938   160911.0        0.0     布拉格广场  蔡依林&周杰伦        242.0\n",
      "1017397  160911.0        0.0     布拉格广场  蔡依林&周杰伦        241.0\n",
      "1019248  160911.0        2.0     布拉格广场  蔡依林&周杰伦        292.0\n",
      "1029274  160911.0        1.0     布拉格广场  蔡依林&周杰伦        296.0\n",
      "1085010  160911.0        0.0     布拉格广场  蔡依林&周杰伦        232.0\n",
      "1129586  160911.0        NaN       NaN        0          NaN\n",
      "1142643  160911.0        0.0     布拉格广场  蔡依林&周杰伦        235.0\n",
      "1228541  160911.0        2.0     布拉格广场  蔡依林&周杰伦        259.0\n",
      "1277999  160911.0        1.0     布拉格广场  蔡依林&周杰伦          0.0\n",
      "1280494  160911.0        0.0     布拉格广场  蔡依林&周杰伦        253.0\n",
      "1395583  160911.0        0.0     布拉格广场  蔡依林&周杰伦        299.0\n",
      "1439765  160911.0        2.0     布拉格广场  蔡依林&周杰伦          0.0\n",
      "1564184  160911.0        0.0     布拉格广场  蔡依林&周杰伦        228.0\n",
      "1637884  160911.0        0.0     布拉格广场  蔡依林&周杰伦        210.0\n",
      "1667538  160911.0        0.0     布拉格广场  蔡依林&周杰伦        206.0\n",
      "1676682  160911.0        0.0     布拉格广场  蔡依林&周杰伦        214.0\n",
      "1682604  160911.0        0.0     布拉格广场  蔡依林&周杰伦        366.0\n",
      "1688756  160911.0        0.0     布拉格广场  蔡依林&周杰伦        218.0\n",
      "1776071  160911.0        0.0     布拉格广场  蔡依林&周杰伦        289.0\n",
      "1799495  160911.0        0.0     布拉格广场  蔡依林&周杰伦        285.0\n",
      "...           ...        ...       ...      ...          ...\n",
      "2467350  160911.0        0.0     布拉格广场  蔡依林&周杰伦        180.0\n",
      "2583497  160911.0        0.0     布拉格广场  蔡依林&周杰伦        183.0\n",
      "2709860  160911.0        0.0     布拉格广场  蔡依林&周杰伦        231.0\n",
      "2726064  160911.0        0.0     布拉格广场  蔡依林&周杰伦        266.0\n",
      "2805593  160911.0        0.0     布拉格广场  蔡依林&周杰伦        333.0\n",
      "2817442  160911.0        0.0     布拉格广场  蔡依林&周杰伦        485.0\n",
      "2869649  160911.0        0.0     布拉格广场  蔡依林&周杰伦        264.0\n",
      "2965083  160911.0        0.0     布拉格广场  蔡依林&周杰伦        240.0\n",
      "2971154  160911.0        0.0     布拉格广场  蔡依林&周杰伦        244.0\n",
      "3001411  160911.0        0.0     布拉格广场  蔡依林&周杰伦        209.0\n",
      "3097025  160911.0        0.0     布拉格广场  蔡依林&周杰伦        257.0\n",
      "3117690  160911.0        2.0     布拉格广场  蔡依林&周杰伦        242.0\n",
      "3131201  160911.0        0.0     布拉格广场  蔡依林&周杰伦        226.0\n",
      "3138585  160911.0        0.0     布拉格广场  蔡依林&周杰伦        261.0\n",
      "3411141  160911.0        0.0     布拉格广场  蔡依林&周杰伦        187.0\n",
      "3658505  160911.0        0.0     布拉格广场  蔡依林&周杰伦        256.0\n",
      "3662997  160911.0        0.0     布拉格广场  蔡依林&周杰伦        283.0\n",
      "3673924  160911.0        0.0     布拉格广场  蔡依林&周杰伦        369.0\n",
      "3897502  160911.0        0.0     布拉格广场  蔡依林&周杰伦        344.0\n",
      "3998549  160911.0        0.0     布拉格广场  蔡依林&周杰伦        251.0\n",
      "4109378  160911.0        0.0     布拉格广场  蔡依林&周杰伦        263.0\n",
      "4140692  160911.0        2.0     布拉格广场  蔡依林&周杰伦        296.0\n",
      "4217893  160911.0        0.0     布拉格广场  蔡依林&周杰伦        270.0\n",
      "4239035  160911.0        0.0     布拉格广场  蔡依林&周杰伦        239.0\n",
      "4391260  160911.0        0.0     布拉格广场  蔡依林&周杰伦        200.0\n",
      "4434260  160911.0        0.0     布拉格广场  蔡依林&周杰伦        247.0\n",
      "4520418  160911.0        0.0     布拉格广场  蔡依林&周杰伦        243.0\n",
      "4615941  160911.0        0.0     布拉格广场  蔡依林&周杰伦        124.0\n",
      "4764311  160911.0        0.0     布拉格广场  蔡依林&周杰伦        276.0\n",
      "5007255  160911.0        0.0     布拉格广场  蔡依林&周杰伦        221.0\n",
      "\n",
      "[64 rows x 5 columns]\n"
     ]
    },
    {
     "name": "stderr",
     "output_type": "stream",
     "text": [
      "C:\\ProgramData\\Anaconda3\\lib\\site-packages\\pandas\\core\\ops.py:798: FutureWarning: elementwise comparison failed; returning scalar instead, but in the future will perform elementwise comparison\n",
      "  result = getattr(x, name)(y)\n"
     ]
    },
    {
     "ename": "TypeError",
     "evalue": "invalid type comparison",
     "output_type": "error",
     "traceback": [
      "\u001b[1;31m---------------------------------------------------------------------------\u001b[0m",
      "\u001b[1;31mTypeError\u001b[0m                                 Traceback (most recent call last)",
      "\u001b[1;32m<ipython-input-44-cc53ae67fb86>\u001b[0m in \u001b[0;36m<module>\u001b[1;34m()\u001b[0m\n\u001b[0;32m      1\u001b[0m \u001b[0mprint\u001b[0m \u001b[1;33m(\u001b[0m\u001b[0mvalid_song\u001b[0m\u001b[1;33m.\u001b[0m\u001b[0mloc\u001b[0m\u001b[1;33m[\u001b[0m\u001b[0mvalid_song\u001b[0m\u001b[1;33m[\u001b[0m\u001b[1;34m'song_id'\u001b[0m\u001b[1;33m]\u001b[0m \u001b[1;33m==\u001b[0m \u001b[1;36m160911\u001b[0m\u001b[1;33m]\u001b[0m\u001b[1;33m)\u001b[0m\u001b[1;33m\u001b[0m\u001b[0m\n\u001b[0;32m      2\u001b[0m \u001b[0mtemp_df\u001b[0m \u001b[1;33m=\u001b[0m \u001b[0mvalid_song\u001b[0m\u001b[1;33m.\u001b[0m\u001b[0mloc\u001b[0m\u001b[1;33m[\u001b[0m\u001b[0mvalid_song\u001b[0m\u001b[1;33m[\u001b[0m\u001b[1;34m'song_id'\u001b[0m\u001b[1;33m]\u001b[0m \u001b[1;33m==\u001b[0m \u001b[1;36m160911.0\u001b[0m\u001b[1;33m]\u001b[0m\u001b[1;33m\u001b[0m\u001b[0m\n\u001b[1;32m----> 3\u001b[1;33m \u001b[0msong_type\u001b[0m \u001b[1;33m=\u001b[0m \u001b[0mmax\u001b[0m\u001b[1;33m(\u001b[0m\u001b[1;33m(\u001b[0m\u001b[0mtemp_df\u001b[0m\u001b[1;33m[\u001b[0m\u001b[1;33m(\u001b[0m\u001b[1;33m~\u001b[0m\u001b[0mtemp_df\u001b[0m\u001b[1;33m[\u001b[0m\u001b[1;34m'song_type'\u001b[0m\u001b[1;33m]\u001b[0m\u001b[1;33m.\u001b[0m\u001b[0misnull\u001b[0m\u001b[1;33m(\u001b[0m\u001b[1;33m)\u001b[0m\u001b[1;33m)\u001b[0m \u001b[1;33m&\u001b[0m \u001b[1;33m(\u001b[0m\u001b[0mtemp_df\u001b[0m\u001b[1;33m[\u001b[0m\u001b[1;34m'song_type'\u001b[0m\u001b[1;33m]\u001b[0m \u001b[1;33m!=\u001b[0m \u001b[1;34m'0.0'\u001b[0m\u001b[1;33m)\u001b[0m\u001b[1;33m]\u001b[0m\u001b[1;33m[\u001b[0m\u001b[1;34m'song_type'\u001b[0m\u001b[1;33m]\u001b[0m\u001b[1;33m.\u001b[0m\u001b[0mmod\u001b[0m\u001b[1;33m)\u001b[0m\u001b[1;33m,\u001b[0m \u001b[1;36m0\u001b[0m\u001b[1;33m)\u001b[0m\u001b[1;33m\u001b[0m\u001b[0m\n\u001b[0m\u001b[0;32m      4\u001b[0m \u001b[0mprint\u001b[0m \u001b[1;33m(\u001b[0m\u001b[0msong_type\u001b[0m\u001b[1;33m)\u001b[0m\u001b[1;33m\u001b[0m\u001b[0m\n",
      "\u001b[1;32mC:\\ProgramData\\Anaconda3\\lib\\site-packages\\pandas\\core\\ops.py\u001b[0m in \u001b[0;36mwrapper\u001b[1;34m(self, other, axis)\u001b[0m\n\u001b[0;32m    859\u001b[0m \u001b[1;33m\u001b[0m\u001b[0m\n\u001b[0;32m    860\u001b[0m             \u001b[1;32mwith\u001b[0m \u001b[0mnp\u001b[0m\u001b[1;33m.\u001b[0m\u001b[0merrstate\u001b[0m\u001b[1;33m(\u001b[0m\u001b[0mall\u001b[0m\u001b[1;33m=\u001b[0m\u001b[1;34m'ignore'\u001b[0m\u001b[1;33m)\u001b[0m\u001b[1;33m:\u001b[0m\u001b[1;33m\u001b[0m\u001b[0m\n\u001b[1;32m--> 861\u001b[1;33m                 \u001b[0mres\u001b[0m \u001b[1;33m=\u001b[0m \u001b[0mna_op\u001b[0m\u001b[1;33m(\u001b[0m\u001b[0mvalues\u001b[0m\u001b[1;33m,\u001b[0m \u001b[0mother\u001b[0m\u001b[1;33m)\u001b[0m\u001b[1;33m\u001b[0m\u001b[0m\n\u001b[0m\u001b[0;32m    862\u001b[0m             \u001b[1;32mif\u001b[0m \u001b[0mis_scalar\u001b[0m\u001b[1;33m(\u001b[0m\u001b[0mres\u001b[0m\u001b[1;33m)\u001b[0m\u001b[1;33m:\u001b[0m\u001b[1;33m\u001b[0m\u001b[0m\n\u001b[0;32m    863\u001b[0m                 raise TypeError('Could not compare %s type with Series' %\n",
      "\u001b[1;32mC:\\ProgramData\\Anaconda3\\lib\\site-packages\\pandas\\core\\ops.py\u001b[0m in \u001b[0;36mna_op\u001b[1;34m(x, y)\u001b[0m\n\u001b[0;32m    798\u001b[0m                     \u001b[0mresult\u001b[0m \u001b[1;33m=\u001b[0m \u001b[0mgetattr\u001b[0m\u001b[1;33m(\u001b[0m\u001b[0mx\u001b[0m\u001b[1;33m,\u001b[0m \u001b[0mname\u001b[0m\u001b[1;33m)\u001b[0m\u001b[1;33m(\u001b[0m\u001b[0my\u001b[0m\u001b[1;33m)\u001b[0m\u001b[1;33m\u001b[0m\u001b[0m\n\u001b[0;32m    799\u001b[0m                 \u001b[1;32mif\u001b[0m \u001b[0mresult\u001b[0m \u001b[1;32mis\u001b[0m \u001b[0mNotImplemented\u001b[0m\u001b[1;33m:\u001b[0m\u001b[1;33m\u001b[0m\u001b[0m\n\u001b[1;32m--> 800\u001b[1;33m                     \u001b[1;32mraise\u001b[0m \u001b[0mTypeError\u001b[0m\u001b[1;33m(\u001b[0m\u001b[1;34m\"invalid type comparison\"\u001b[0m\u001b[1;33m)\u001b[0m\u001b[1;33m\u001b[0m\u001b[0m\n\u001b[0m\u001b[0;32m    801\u001b[0m             \u001b[1;32mexcept\u001b[0m \u001b[0mAttributeError\u001b[0m\u001b[1;33m:\u001b[0m\u001b[1;33m\u001b[0m\u001b[0m\n\u001b[0;32m    802\u001b[0m                 \u001b[0mresult\u001b[0m \u001b[1;33m=\u001b[0m \u001b[0mop\u001b[0m\u001b[1;33m(\u001b[0m\u001b[0mx\u001b[0m\u001b[1;33m,\u001b[0m \u001b[0my\u001b[0m\u001b[1;33m)\u001b[0m\u001b[1;33m\u001b[0m\u001b[0m\n",
      "\u001b[1;31mTypeError\u001b[0m: invalid type comparison"
     ]
    }
   ],
   "source": [
    "print (valid_song.loc[valid_song['song_id'] == 160911])\n",
    "temp_df = valid_song.loc[valid_song['song_id'] == 160911.0]\n",
    "song_type = max((temp_df['song_type'].repalce(0.0, None)).mode, 0)\n",
    "print (song_type)"
   ]
  },
  {
   "cell_type": "code",
   "execution_count": 72,
   "metadata": {},
   "outputs": [
    {
     "name": "stdout",
     "output_type": "stream",
     "text": [
      "0    布拉格广场\n",
      "dtype: object\n"
     ]
    }
   ],
   "source": [
    "temp_df = valid_song.loc[valid_song['song_id'] == 160911.0]\n",
    "# temp = temp_df['song_type'].replace(0.0, None)\n",
    "# temp.dropna().mode()\n",
    "song_name = temp_df['song_name'].dropna().mode()\n",
    "print (song_name)"
   ]
  },
  {
   "cell_type": "code",
   "execution_count": null,
   "metadata": {
    "collapsed": true
   },
   "outputs": [],
   "source": []
  },
  {
   "cell_type": "code",
   "execution_count": null,
   "metadata": {
    "collapsed": true
   },
   "outputs": [],
   "source": [
    "print (len(np.unique(valid_freq['song_id'])))"
   ]
  },
  {
   "cell_type": "markdown",
   "metadata": {},
   "source": [
    "### feature enigneering \n",
    "#### purpose useful features\n",
    "- song freq for users  \n",
    "- download for each users  \n",
    "- various kinds of similarity matrix  "
   ]
  },
  {
   "cell_type": "markdown",
   "metadata": {},
   "source": [
    "### modeling \n",
    "#### utility \n",
    "- for each user, each song: c0 (not played), c1 (play once only/dislike the song), c2 (play multiple times), c3 (love the song, download)\n",
    "- collaborative filtering -> \n",
    "- relevance modeling (pair)"
   ]
  }
 ],
 "metadata": {
  "kernelspec": {
   "display_name": "Python 3",
   "language": "python",
   "name": "python3"
  },
  "language_info": {
   "codemirror_mode": {
    "name": "ipython",
    "version": 3
   },
   "file_extension": ".py",
   "mimetype": "text/x-python",
   "name": "python",
   "nbconvert_exporter": "python",
   "pygments_lexer": "ipython3",
   "version": "3.6.1"
  }
 },
 "nbformat": 4,
 "nbformat_minor": 2
}
